{
 "cells": [
  {
   "cell_type": "markdown",
   "metadata": {
    "collapsed": true,
    "slideshow": {
     "slide_type": "slide"
    }
   },
   "source": [
    "\n",
    "\n",
    "# Python una breve introducción\n",
    "\n",
    "Podriamos pasarnos horas y horas hablando de ** Python** y de sus ventajas y desventajas, eso es seguro, pero eso tambien es algo poco productivo para nustras metas en este taller, pues en tan poco tiempo es muy dificil abarcar lo que facilmente podria llevar semanas o meses en un curso sobre el lenguaje, así que por eso aqui lo vamos a a hacer rápido y tocando solo los temas que mas usaremos en el resto del taller.\n",
    "\n",
    "## Hola mundo: Python rules :)!!\n",
    "\n",
    "Primero que nada, comenzaremos con lo más básico, ** ¿Cómo se usa Python? **\n",
    "existen dos formas, tres quizá, la primera es haciendo uso de la consola interactiva, no importa el sistema operativo,\n",
    "si has configurado la ruta del sistema para que reconozca a python como un programa más del sistema (_al menos en Windows_) al ejecutar la siguiente orden en linea de comandos, debiera mostrar el modo interactivo:\n",
    "\n",
    "``` cli \n",
    "    pi@matrix:~ $ python3.4\n",
    "    \n",
    "    ```\n",
    "Lo que debe mostrar algo como lo siguinte:\n",
    "\n",
    "```cli\n",
    "    Python 3.4.2 (default, Oct 19 2014, 13:31:11) \n",
    "    [GCC 4.9.1] on linux\n",
    "    Type \"help\", \"copyright\", \"credits\" or \"license\" for more information.\n",
    "    >>>\n",
    "\n",
    "    ```\n",
    "Practicamente todas las versiones de Linux y Mac vienen con python instalado, excepto Windows, en el que hay que hacer algunas cosas para tenerlo listo.\n",
    "En este punto es super simple hacer un ** Holamundo **\n",
    "\n",
    "```python \n",
    "    >>> print(\"Hola, mundo!!\") \n",
    "```\n",
    "Así que vamos a probarlo, esto resultara divertido (_eso espero_), la tercera forma de usar python en estos días es usando  un navegador web y algunos paquetes que bajamos o instalamos en el sistema, ** Jupyter Notebook** para ser exactos."
   ]
  },
  {
   "cell_type": "code",
   "execution_count": 40,
   "metadata": {
    "collapsed": false,
    "slideshow": {
     "slide_type": "fragment"
    }
   },
   "outputs": [
    {
     "name": "stdout",
     "output_type": "stream",
     "text": [
      "Hola, mundo!!\n"
     ]
    }
   ],
   "source": [
    "    print(\"Hola, mundo!!\")"
   ]
  },
  {
   "cell_type": "markdown",
   "metadata": {
    "slideshow": {
     "slide_type": "subslide"
    }
   },
   "source": [
    "¿Divertido.....?\n",
    "\n",
    "Ok, hagamos algo mas interesante: ** Usemos Python como una calculadora ridiculamente potente **\n"
   ]
  },
  {
   "cell_type": "code",
   "execution_count": 41,
   "metadata": {
    "collapsed": false,
    "slideshow": {
     "slide_type": "fragment"
    }
   },
   "outputs": [
    {
     "name": "stdout",
     "output_type": "stream",
     "text": [
      "Dime un número >> 34\n",
      "Dime otro número >> 2\n"
     ]
    }
   ],
   "source": [
    "a = input(\"Dime un número >> \")\n",
    "b = input(\"Dime otro número >> \")"
   ]
  },
  {
   "cell_type": "markdown",
   "metadata": {
    "slideshow": {
     "slide_type": "slide"
    }
   },
   "source": [
    "Ok, a este punto ya se dieron cuenta, Jupyter es bastante divertido, podemos hacer muchas cosas aquí, como por ejemplo usar\n",
    "los datos que introducimos más arriba: **_vamos a sumar!!_**\n",
    "![Vamo a sumar!](./imagenes/Squirtle.png)\n"
   ]
  },
  {
   "cell_type": "code",
   "execution_count": 43,
   "metadata": {
    "collapsed": false,
    "slideshow": {
     "slide_type": "subslide"
    }
   },
   "outputs": [
    {
     "name": "stdout",
     "output_type": "stream",
     "text": [
      "La suma es: 342\n"
     ]
    }
   ],
   "source": [
    "# Sumaremos los dos valores previamente introducidos.\n",
    "c = a + b\n",
    "print(\"La suma es: \" + c)"
   ]
  },
  {
   "cell_type": "markdown",
   "metadata": {
    "slideshow": {
     "slide_type": "subslide"
    }
   },
   "source": [
    "Bien, a este punto ya sabemos bastantes cosas, _imprimir, leer, sumar,  declarar y almacenar valores en variables_.\n",
    "\n",
    "No se ustedes, pero esto luce muy fácil, vamos por algo mas complicado:\n",
    "1. Obtener la raiz cuadrada de ** c **\n",
    "2. Vencer al imperio, \"ok, eso no!!\n",
    "\n",
    "Ahora podemos pensar: ¿Cómo haré eso?, ¿Tiene Python una forma fácil de hacerlo?, etc.\n",
    "La respuesta es: si, python tiene formas muy fáciles de hacer esta y muchas otras cosas, vamos a ello....\n",
    "\n",
    "Importamos el modulo **math**:"
   ]
  },
  {
   "cell_type": "code",
   "execution_count": 44,
   "metadata": {
    "collapsed": false,
    "slideshow": {
     "slide_type": "subslide"
    }
   },
   "outputs": [
    {
     "ename": "TypeError",
     "evalue": "a float is required",
     "output_type": "error",
     "traceback": [
      "\u001b[0;31m---------------------------------------------------------------------------\u001b[0m",
      "\u001b[0;31mTypeError\u001b[0m                                 Traceback (most recent call last)",
      "\u001b[0;32m<ipython-input-44-b09c5c38934b>\u001b[0m in \u001b[0;36m<module>\u001b[0;34m()\u001b[0m\n\u001b[1;32m      1\u001b[0m \u001b[0;32mimport\u001b[0m \u001b[0mmath\u001b[0m\u001b[0;34m\u001b[0m\u001b[0m\n\u001b[0;32m----> 2\u001b[0;31m \u001b[0md\u001b[0m \u001b[0;34m=\u001b[0m \u001b[0mmath\u001b[0m\u001b[0;34m.\u001b[0m\u001b[0msqrt\u001b[0m\u001b[0;34m(\u001b[0m\u001b[0mc\u001b[0m\u001b[0;34m)\u001b[0m\u001b[0;34m\u001b[0m\u001b[0m\n\u001b[0m",
      "\u001b[0;31mTypeError\u001b[0m: a float is required"
     ]
    }
   ],
   "source": [
    "import math\n",
    "d = math.sqrt(c)"
   ]
  },
  {
   "cell_type": "markdown",
   "metadata": {
    "slideshow": {
     "slide_type": "subslide"
    }
   },
   "source": [
    "**Hora deben pensar: no sabe, saquenlo de aqui....traigan a --_inserte nombre de profesor preferido aquí_--**.\n",
    "\n",
    "Bueno, la verdad es que eso ha sido planeado, pese a que Python no es un lenguaje fuertemente tipado como C, C++ o Go!, etc.,cuando leemos algo desde teclado, cosa que hicimos con **a y b**, el stream de entrada es de tipo **string o cadena**, lo que significa que no es propimanete un entero, pero se preguntaran ** ¿Por qué la suma si funciono? **, bueno resulta que a math hay que pasarle float para que funcionen los metodos, de lo contrario nos dará ese error, por lo que la forma correcta es:"
   ]
  },
  {
   "cell_type": "code",
   "execution_count": 45,
   "metadata": {
    "collapsed": false,
    "slideshow": {
     "slide_type": "subslide"
    }
   },
   "outputs": [
    {
     "name": "stdout",
     "output_type": "stream",
     "text": [
      "Raíz de : 342 es:  18.49324200890693\n"
     ]
    }
   ],
   "source": [
    "d = math.sqrt(int(c))\n",
    "print(\"Raíz de : \" + c + \" es: \",  d )"
   ]
  },
  {
   "cell_type": "markdown",
   "metadata": {
    "slideshow": {
     "slide_type": "slide"
    }
   },
   "source": [
    "## ¿Alguien noto algo raro?\n",
    "### Usen los siguientes bloques para probar sus ideas: "
   ]
  },
  {
   "cell_type": "markdown",
   "metadata": {
    "slideshow": {
     "slide_type": "skip"
    }
   },
   "source": []
  },
  {
   "cell_type": "code",
   "execution_count": null,
   "metadata": {
    "collapsed": true,
    "slideshow": {
     "slide_type": "skip"
    }
   },
   "outputs": [],
   "source": []
  },
  {
   "cell_type": "code",
   "execution_count": null,
   "metadata": {
    "collapsed": true,
    "slideshow": {
     "slide_type": "skip"
    }
   },
   "outputs": [],
   "source": []
  },
  {
   "cell_type": "code",
   "execution_count": null,
   "metadata": {
    "collapsed": true,
    "slideshow": {
     "slide_type": "skip"
    }
   },
   "outputs": [],
   "source": []
  },
  {
   "cell_type": "code",
   "execution_count": null,
   "metadata": {
    "collapsed": true,
    "slideshow": {
     "slide_type": "skip"
    }
   },
   "outputs": [],
   "source": []
  },
  {
   "cell_type": "code",
   "execution_count": null,
   "metadata": {
    "collapsed": true,
    "slideshow": {
     "slide_type": "skip"
    }
   },
   "outputs": [],
   "source": []
  },
  {
   "cell_type": "code",
   "execution_count": null,
   "metadata": {
    "collapsed": true
   },
   "outputs": [],
   "source": []
  },
  {
   "cell_type": "code",
   "execution_count": null,
   "metadata": {
    "collapsed": true
   },
   "outputs": [],
   "source": []
  },
  {
   "cell_type": "code",
   "execution_count": null,
   "metadata": {
    "collapsed": true
   },
   "outputs": [],
   "source": []
  },
  {
   "cell_type": "code",
   "execution_count": null,
   "metadata": {
    "collapsed": true
   },
   "outputs": [],
   "source": []
  },
  {
   "cell_type": "code",
   "execution_count": null,
   "metadata": {
    "collapsed": true
   },
   "outputs": [],
   "source": []
  }
 ],
 "metadata": {
  "kernelspec": {
   "display_name": "Python 3",
   "language": "python",
   "name": "python3"
  },
  "language_info": {
   "codemirror_mode": {
    "name": "ipython",
    "version": 3
   },
   "file_extension": ".py",
   "mimetype": "text/x-python",
   "name": "python",
   "nbconvert_exporter": "python",
   "pygments_lexer": "ipython3",
   "version": "3.4.2"
  }
 },
 "nbformat": 4,
 "nbformat_minor": 1
}
